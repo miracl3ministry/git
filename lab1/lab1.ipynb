{
 "cells": [
  {
   "cell_type": "code",
   "execution_count": 9,
   "metadata": {},
   "outputs": [],
   "source": [
    "# Список\n",
    "listOfCountries = ['US','DE','NL','PL','RU','UA']\n",
    "# Кортеж\n",
    "canAccept = ('DE','NL',\"PL\")\n",
    "# Словарь\n",
    "lead = {\n",
    "    'name': 'ivan',\n",
    "    'second_name' : 'ivanov',\n",
    "    'phone' : '79999999999',\n",
    "    'email' : 'email@mail.ru',\n",
    "    'utm' : [],\n",
    "    'host' : '127.0.0.1',\n",
    "    'ip' : '192.168.0.11',\n",
    "    'country' : 'RU',\n",
    "}\n",
    "# Множество\n",
    "hosts = set(['site1.ru', 'site2.ru', 'site3.ru', 'advertising.ru'])"
   ]
  }
 ],
 "metadata": {
  "kernelspec": {
   "display_name": "Python 3.9.1 64-bit",
   "language": "python",
   "name": "python3"
  },
  "language_info": {
   "codemirror_mode": {
    "name": "ipython",
    "version": 3
   },
   "file_extension": ".py",
   "mimetype": "text/x-python",
   "name": "python",
   "nbconvert_exporter": "python",
   "pygments_lexer": "ipython3",
   "version": "3.9.1"
  },
  "orig_nbformat": 4,
  "vscode": {
   "interpreter": {
    "hash": "81794d4967e6c3204c66dcd87b604927b115b27c00565d3d43f05ba2f3a2cb0d"
   }
  }
 },
 "nbformat": 4,
 "nbformat_minor": 2
}
