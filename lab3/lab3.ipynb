{
 "cells": [
  {
   "cell_type": "markdown",
   "metadata": {},
   "source": [
    "1. Архитектура приложения: MVC\n",
    "    Задачи проекта: На входе в веб интерфейсе будут: товар с товарной биржи, даты и показатели для анализа. Далее необходимые данные забираются из кэша/бд/апи, анализируются и на выход идет данные о торгах за день, объем торгов, среднее значение, максимум, минимум, изменение цены, стандартое отклонение и т.д. и т.п.</br>\n",
    "    project</br>\n",
    "    │   server.py</br>\n",
    "    │</br>\n",
    "    ├───controllers</br>\n",
    "    ├───models</br>\n",
    "    │       db.py</br>\n",
    "    └───views</br>\n",
    "2. Цель: разработать прототип для магистерской работы, научиться собирать и анализировать данные.</br>\n",
    "    Задачи: найти и изучть апи для получения данных, разработать программу в виде веб-приложения.</br>\n",
    "    Функциональные требования: наличие интерфейса, возможность выбора товара, даты и анализируемых данных</br>\n",
    "    Входные воздействия: данные с интерфейса, исторические данные торгов</br>\n",
    "    Выходные воздействия: диаграммы, объем торгов, среднее значение, максимум, минимум, изменение цены, стандартое отклонение и т.д. и т.п.</br>\n",
    "3. Иерархия классов для первых 2-х лаб</br>\n",
    "    databaseClass</br>\n",
    "    ├─── documentsDbs</br>\n",
    "    │       mongoClass</br>\n",
    "    ├─── SqlDbs</br>\n",
    "    │       mariaDbClass</br>\n",
    "    │       postgresqlClass</br>\n",
    "    │       sqliteClass</br>\n",
    "    └─── graphDbs</br>\n",
    "4. `__str__` и `__repr__` определяют метод вывода информации об объекте. Repl выводит информацию \"для разработчиков\", которая может присваиваться через eval(), т.е. в формате объекта. А str выводит строковое читаемое значение"
   ]
  },
  {
   "cell_type": "code",
   "execution_count": 21,
   "metadata": {},
   "outputs": [
    {
     "name": "stdout",
     "output_type": "stream",
     "text": [
      "__str__\n"
     ]
    }
   ],
   "source": [
    "class testClass():\n",
    "\n",
    "    def __repr__(self) -> str:\n",
    "        return \"__repl__\"\n",
    "    \n",
    "    def __str__(self) -> str:\n",
    "        return \"__str__\"\n",
    "\n",
    "test = testClass()\n",
    "print(test)"
   ]
  },
  {
   "cell_type": "code",
   "execution_count": 22,
   "metadata": {},
   "outputs": [
    {
     "data": {
      "text/plain": [
       "__repl__"
      ]
     },
     "execution_count": 22,
     "metadata": {},
     "output_type": "execute_result"
    }
   ],
   "source": [
    "test"
   ]
  },
  {
   "cell_type": "code",
   "execution_count": 23,
   "metadata": {},
   "outputs": [
    {
     "name": "stdout",
     "output_type": "stream",
     "text": [
      "Имитация функции\n"
     ]
    }
   ],
   "source": [
    "# 5.\n",
    "class testClass2():\n",
    "\n",
    "    def __call__(self):\n",
    "        print(\"Имитация функции\")\n",
    "\n",
    "testClass2()()"
   ]
  }
 ],
 "metadata": {
  "kernelspec": {
   "display_name": "Python 3.10.7 64-bit",
   "language": "python",
   "name": "python3"
  },
  "language_info": {
   "codemirror_mode": {
    "name": "ipython",
    "version": 3
   },
   "file_extension": ".py",
   "mimetype": "text/x-python",
   "name": "python",
   "nbconvert_exporter": "python",
   "pygments_lexer": "ipython3",
   "version": "3.10.7"
  },
  "orig_nbformat": 4,
  "vscode": {
   "interpreter": {
    "hash": "52886572d2fef9145b8af58d785d99afdbfc85b1a997ce60f0450044851d91fb"
   }
  }
 },
 "nbformat": 4,
 "nbformat_minor": 2
}
